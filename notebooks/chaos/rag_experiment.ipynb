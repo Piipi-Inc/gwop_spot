{
 "cells": [
  {
   "cell_type": "code",
   "execution_count": 85,
   "metadata": {},
   "outputs": [],
   "source": [
    "import os \n",
    "import pandas as pd\n",
    "\n",
    "from langchain.text_splitter import RecursiveCharacterTextSplitter\n",
    "from langchain_openai import ChatOpenAI\n",
    "\n",
    "from langchain_chroma import Chroma\n",
    "from langchain_community.embeddings.sentence_transformer import (\n",
    "    SentenceTransformerEmbeddings,\n",
    ")"
   ]
  },
  {
   "cell_type": "code",
   "execution_count": 86,
   "metadata": {},
   "outputs": [
    {
     "data": {
      "text/plain": [
       "True"
      ]
     },
     "execution_count": 86,
     "metadata": {},
     "output_type": "execute_result"
    }
   ],
   "source": [
    "from dotenv import load_dotenv\n",
    "# Load environment variables\n",
    "load_dotenv('../../.env')"
   ]
  },
  {
   "cell_type": "code",
   "execution_count": 87,
   "metadata": {},
   "outputs": [],
   "source": [
    "llm = ChatOpenAI(model=\"gpt-4o-mini\", temperature=0, max_tokens = 1000)"
   ]
  },
  {
   "cell_type": "code",
   "execution_count": 88,
   "metadata": {},
   "outputs": [],
   "source": [
    "df_articles = pd.read_csv('../../data/df_articles.csv').dropna()\n",
    "df_articles['content'] = df_articles['title'] + df_articles['content']\n",
    "\n",
    "df_articles_analytics = pd.read_csv('../../data/df_articles_analytics.csv').dropna()\n",
    "df_articles_analytics['content'] = df_articles_analytics['title'] + df_articles_analytics['content']\n",
    "\n",
    "documents = df_articles['content'].to_list() + df_articles_analytics['content'].to_list()\n",
    "with open('../../data/courses.txt', 'r') as f:\n",
    "    documents += list(f.read().split('\\n\\n\\n\\n'))"
   ]
  },
  {
   "cell_type": "code",
   "execution_count": 89,
   "metadata": {},
   "outputs": [],
   "source": [
    "documents = [doc.replace('\\xa0', ' ').replace('\\n', ' ') for doc in documents]"
   ]
  },
  {
   "cell_type": "code",
   "execution_count": 90,
   "metadata": {},
   "outputs": [
    {
     "data": {
      "text/plain": [
       "525"
      ]
     },
     "execution_count": 90,
     "metadata": {},
     "output_type": "execute_result"
    }
   ],
   "source": [
    "len(documents)"
   ]
  },
  {
   "cell_type": "code",
   "execution_count": 91,
   "metadata": {},
   "outputs": [],
   "source": [
    "text_splitter = RecursiveCharacterTextSplitter.from_tiktoken_encoder(chunk_size=1000, chunk_overlap=200)\n",
    "chunks = text_splitter.split_text(\" \".join(documents))"
   ]
  },
  {
   "cell_type": "code",
   "execution_count": null,
   "metadata": {},
   "outputs": [
    {
     "name": "stderr",
     "output_type": "stream",
     "text": [
      "No sentence-transformers model found with name DeepPavlov/rubert-base-cased-sentence. Creating a new one with mean pooling.\n",
      "huggingface/tokenizers: The current process just got forked, after parallelism has already been used. Disabling parallelism to avoid deadlocks...\n",
      "To disable this warning, you can either:\n",
      "\t- Avoid using `tokenizers` before the fork if possible\n",
      "\t- Explicitly set the environment variable TOKENIZERS_PARALLELISM=(true | false)\n"
     ]
    }
   ],
   "source": [
    "# create the open-source embedding function\n",
    "embedding_function = SentenceTransformerEmbeddings(model_name=\"DeepPavlov/rubert-base-cased-sentence\", model_kwargs={'device': 'cpu'})\n",
    "\n",
    "db = Chroma.from_texts(chunks, embedding_function, persist_directory=\"../../artifacts/chroma_db\")"
   ]
  },
  {
   "cell_type": "code",
   "execution_count": 125,
   "metadata": {},
   "outputs": [],
   "source": [
    "import pickle\n",
    "\n",
    "# Сохраняем chain как pickle\n",
    "with open(\"../../artifacts/embedding_function.pkl\", \"wb\") as file:\n",
    "    pickle.dump(embedding_function, file)"
   ]
  },
  {
   "cell_type": "code",
   "execution_count": 93,
   "metadata": {},
   "outputs": [],
   "source": [
    "retriever = db.as_retriever()"
   ]
  },
  {
   "cell_type": "code",
   "execution_count": 94,
   "metadata": {},
   "outputs": [],
   "source": [
    "from langchain.prompts import ChatPromptTemplate\n",
    "\n",
    "# Multi Query: Different Perspectives\n",
    "template = \"\"\"You are an AI language model assistant. Your task is to generate five \n",
    "different versions of the given user question to retrieve relevant documents from a vector \n",
    "database. By generating multiple perspectives on the user question, your goal is to help\n",
    "the user overcome some of the limitations of the distance-based similarity search. \n",
    "Provide these alternative questions separated by newlines. Original question: {question}\"\"\"\n",
    "prompt_perspectives = ChatPromptTemplate.from_template(template)\n",
    "\n",
    "from langchain_core.output_parsers import StrOutputParser\n",
    "from langchain_openai import ChatOpenAI\n",
    "\n",
    "generate_queries = (\n",
    "    prompt_perspectives \n",
    "    | llm\n",
    "    | StrOutputParser() \n",
    "    | (lambda x: x.split(\"\\n\"))\n",
    ")"
   ]
  },
  {
   "cell_type": "code",
   "execution_count": 114,
   "metadata": {},
   "outputs": [],
   "source": [
    "from langchain.load import dumps, loads, load\n",
    "\n",
    "def get_unique_union(documents: list[list]):\n",
    "    \"\"\" Unique union of retrieved docs \"\"\"\n",
    "    # Flatten list of lists, and convert each Document to string\n",
    "    flattened_docs = [dumps(doc) for sublist in documents for doc in sublist]\n",
    "    # Get unique documents\n",
    "    unique_docs = list(set(flattened_docs))\n",
    "    # Return\n",
    "    return [loads(doc) for doc in unique_docs]"
   ]
  },
  {
   "cell_type": "code",
   "execution_count": 96,
   "metadata": {},
   "outputs": [
    {
     "data": {
      "text/plain": [
       "7"
      ]
     },
     "execution_count": 96,
     "metadata": {},
     "output_type": "execute_result"
    }
   ],
   "source": [
    "question = \"Какие акции IT компаний сейчас наиболее интересны для приобретения?\"\n",
    "retrieval_chain = generate_queries | retriever.map() | get_unique_union\n",
    "docs = retrieval_chain.invoke({\"question\":question})\n",
    "len(docs)"
   ]
  },
  {
   "cell_type": "code",
   "execution_count": 97,
   "metadata": {},
   "outputs": [
    {
     "data": {
      "text/plain": [
       "[Document(page_content='поехали! В этом уроке мы дадим вам универсальный чек-лист. С ним вы в любой момент быстро оцените ситуацию вокруг и подберете себе актив. ☝🏻 Хорошая новость: чек-лист подойдет не только для выбора акций, но и если вы захотите присмотреться к облигациям или фондам. Вообще, когда мы говорим про выбор активов, принцип практически одинаковый. Поэтому мы и назвали чек-лист универсальным 🧐 Ну что, поехали! 1. Новости Проверить финансовые показатели компании перед покупкой — дело важное, но не единственное. Инвестор должен быть в курсе событий, связанных с компанией, чтобы не пропустить что-то важное (аварии, форс-мажоры, слияние, выплату дивидендов и прочее). 🤔 Зачем смотреть Слухи и новости о компании, высказывания первых лиц или же другая информация, имеющая прямое или косвенное отношение к бизнесу компании, могут повлиять на котировки. 1. Новости Проверить финансовые показатели компании перед покупкой — дело важное, но'),\n",
       " Document(page_content='перспективе за счет дальнейшего роста продаж собственных решений.     Бенефициар структурных изменений IT-рынка Как мы отмечали выше, компания выигрывает от перестройки рынка, которая началась в 2022 году. Активное импортозамещение также положительно сказывается на прибыльности компании, но уже в сегменте решений сторонних производителей. В целом валовая маржа компании как % от продаж выросла с 14,9% в 2020-м до 26% в 2023-м. M&A-сделки как драйвер роста в среднесрочной перспективе Софтлайн обладает значительным опытом в совершении сделок слияний и поглощений. Только с начала этого года компания завершила более восьми подобных сделок. Причем сделала это в разных сегментах рынка и для различных целей, включая привлечение IT-специалистов, развитие портфеля собственных решений и экспансию в новые сегменты. При этом на фоне роста уровня консолидации рынка и конкуренции за освободившиеся ниши многим относительно небольшим'),\n",
       " Document(page_content='представители B2B- и B2G-секторов. Клиентская база компании довольно диверсифицирована: доля топ-5 заказчиков не превышает 10% от выручки. Факторы инвестиционной привлекательности Развитие собственных продуктов По нашему мнению, развитие собственных продуктов является основным фактором инвестиционной привлекательности компании. Доля этих продуктов в общем объеме продаж за первое полугодие 2024-го выросла до 30% с менее 3% в 2020 году. Это позитивно сказывается на эффективности бизнеса, поскольку собственные решения более рентабельные, чем продукты сторонних производителей. Так, валовая прибыль как % от продаж у собственных продуктов составляет в среднем около 60%, а у сторонних продуктов — всего около 13%. Ждем увеличения валовой маржи компании в среднесрочной перспективе за счет дальнейшего роста продаж собственных решений.     Бенефициар структурных изменений IT-рынка Как мы отмечали выше, компания выигрывает от перестройки рынка, которая'),\n",
       " Document(page_content='с историями — важная и полезная информация, а также рекомендации аналитиков понятным и бодрым языком. 👉 Ну и в-четвертых, вкладка «Избранное» — бумаги, которые вам понравились и которые вы отметили звездочкой ⭐ Добавляйте ценные бумаги в «Избранное», чтобы потом легко найти их. Идем искать ценные бумаги —> раздел «Что купить» 🔍 Если хотите что-то купить, этот раздел самый интересный (и нужный). Здесь можно найти актив, прогнозы аналитиков и уже готовую стратегию. 👉 Верхняя панель — все инструменты инвестора. Если вы новичок, загляните во вкладки «Акции» и «Облигации». Идем искать ценные бумаги —> раздел «Что купить» 🔍 Если хотите что-то купить, этот раздел самый интересный (и нужный). Здесь можно найти актив, прогнозы аналитиков и уже готовую стратегию. 👉 Верхняя панель — все инструменты инвестора. Если вы новичок, загляните во вкладки «Акции» и «Облигации». Если я не знаю, что купить —> подборки от аналитиков 👉 В'),\n",
       " Document(page_content='вы можете обратиться в поддержку Т-Инвестиций. А если вы хотите научиться так же быстро находить не только бюджетные, но и качественные компании, читайте наш курс «Чек-лист: как быстро выбрать лучшую акцию». Как быть в курсе всех конкурсов 👉 Чтобы узнавать обо всех акциях и конкурсах, подпишитесь в Пульсе на аккаунты Pulse_Official и T-Investments. Также вы можете обратиться в поддержку Т-Инвестиций. А если вы хотите научиться так же быстро находить не только бюджетные, но и качественные компании, читайте наш курс «Чек-лист: как быстро выбрать лучшую акцию».  Зачем нужны инвестиции Урок 1 10 мин Прогресс 6% ☝️ Что вы узнаете С какой скоростью растут цены в России и что с этим делать Почему инвестиции выгоднее вкладов и недвижимости Как достичь целей с помощью инвестиций ☝️ Чему вы научитесь Правильно выбирать инструменты для заработка Обгонять рост цен, используя разные инструменты ☝️ Что вы узнаете ☝️ Чему вы научитесь Словарь'),\n",
       " Document(page_content='компетенций. Профильные DIY-игроки, особенно ВИ.ру, предоставляют возможность консультаций и поддержку при покупке. Это уже их важное конкурентное преимущество перед маркетплейсами. Помимо поддержки специалистов, важным критерием выбора для B2B-сегмента является возможность закрыть все необходимые потребности в рамках единого заказа — такую возможность маркетплейсы могут не предоставить в отличие от профильных игроков. ВИ.ру также отвечает за надежность выполнения заказа в срок, что является важным конкурентным преимуществом, так как многие процессы в ремонте/строительстве не терпят задержек. А увеличение доли собственных брендов и эксклюзивных партнерств в общем ассортименте компании делает предложение ВИ.ру уникальным. Как мы уже писали выше, ВИ.ру занимает второе место по размеру общей выручки среди профильных игроков и первое место по доходам от онлайн-продаж. Компания показывает мощные темпы роста выручки,'),\n",
       " Document(page_content='другие активы. 📝 Акции Итак, мы начнем с того, о чем вы точно слышали. 📌 Акция — это доля в компании, которую инвесторы могут продавать и покупать. Купив акции, вы становитесь совладельцем бизнеса и можете разделить его успехи, например получить дивиденды — часть прибыли, которой компания делится с инвесторами, владеющими их акциями. Большинство инвесторов покупает именно акции. Так как акции могут быть очень дешевыми и могут быстро принести прибыль. И кстати, доходность акций на большом промежутке времени опережает другие активы. История о том, как инвесторы находят любимые акции За счет разнообразия бумаг на бирже вы всегда можете найти ту акцию, которая подойдет вам как по бюджету, так и по цели. Так случилось и с нашим инвестором. История о том, как инвесторы находят любимые акции За счет разнообразия бумаг на бирже вы всегда можете найти ту акцию, которая подойдет вам как по бюджету, так и по цели. Так')]"
      ]
     },
     "execution_count": 97,
     "metadata": {},
     "output_type": "execute_result"
    }
   ],
   "source": [
    "docs"
   ]
  },
  {
   "cell_type": "code",
   "execution_count": 98,
   "metadata": {},
   "outputs": [
    {
     "name": "stdout",
     "output_type": "stream",
     "text": [
      "На основании предоставленного контекста, можно выделить несколько факторов, которые делают акции IT-компаний интересными для приобретения:\n",
      "\n",
      "1. **Развитие собственных продуктов**: Упоминается, что компании, развивающие собственные решения, показывают высокую рентабельность. Например, валовая прибыль от собственных продуктов составляет около 60%, что значительно выше, чем у сторонних продуктов (около 13%). Это делает такие компании более привлекательными для инвестиций.\n",
      "\n",
      "2. **Структурные изменения на рынке**: Компании, которые выигрывают от перестройки IT-рынка и активного импортозамещения, также могут быть интересными для инвесторов. Это связано с ростом прибыльности и возможностью захвата новых рыночных ниш.\n",
      "\n",
      "3. **Слияния и поглощения (M&A)**: Компании, активно занимающиеся сделками слияний и поглощений, могут продемонстрировать значительный рост. Например, одна из компаний завершила более восьми сделок в разных сегментах рынка, что может свидетельствовать о её стратегическом развитии и расширении.\n",
      "\n",
      "4. **Дивидендная доходность**: Ожидаемая дивидендная доходность на уровне 8% и 13% по итогам 2025 и 2026 годов также делает акции некоторых IT-компаний привлекательными для инвесторов, ищущих стабильный доход.\n",
      "\n",
      "Таким образом, для выбора интересных акций IT-компаний стоит обратить внимание на те, которые активно развивают собственные продукты, участвуют в структурных изменениях на рынке, занимаются слияниями и поглощениями, а также предлагают привлекательную дивидендную доходность.\n"
     ]
    }
   ],
   "source": [
    "from operator import itemgetter\n",
    "\n",
    "# RAG\n",
    "template = \"\"\"Answer the following question based on this context:\n",
    "\n",
    "{context}\n",
    "\n",
    "Question: {question}\n",
    "\"\"\"\n",
    "\n",
    "prompt = ChatPromptTemplate.from_template(template)\n",
    "\n",
    "final_rag_chain = (\n",
    "    {\"context\": retrieval_chain, \n",
    "     \"question\": itemgetter(\"question\")} \n",
    "    | prompt\n",
    "    | llm\n",
    "    | StrOutputParser()\n",
    ")\n",
    "\n",
    "res = final_rag_chain.invoke({\"question\":question})\n",
    "\n",
    "print(res)"
   ]
  },
  {
   "cell_type": "code",
   "execution_count": 107,
   "metadata": {},
   "outputs": [],
   "source": [
    "from langchain_core.load.serializable import to_json_not_implemented\n",
    "\n",
    "repr = to_json_not_implemented(final_rag_chain)"
   ]
  },
  {
   "cell_type": "code",
   "execution_count": 108,
   "metadata": {},
   "outputs": [
    {
     "data": {
      "text/plain": [
       "{'lc': 1,\n",
       " 'type': 'not_implemented',\n",
       " 'id': ['langchain_core', 'runnables', 'base', 'RunnableSequence'],\n",
       " 'repr': \"{\\n  context: ChatPromptTemplate(input_variables=['question'], messages=[HumanMessagePromptTemplate(prompt=PromptTemplate(input_variables=['question'], template='You are an AI language model assistant. Your task is to generate five \\\\ndifferent versions of the given user question to retrieve relevant documents from a vector \\\\ndatabase. By generating multiple perspectives on the user question, your goal is to help\\\\nthe user overcome some of the limitations of the distance-based similarity search. \\\\nProvide these alternative questions separated by newlines. Original question: {question}'))])\\n           | ChatOpenAI(client=<openai.resources.chat.completions.Completions object at 0x308f7a490>, async_client=<openai.resources.chat.completions.AsyncCompletions object at 0x3424bcb90>, root_client=<openai.OpenAI object at 0x177459690>, root_async_client=<openai.AsyncOpenAI object at 0x308f7a950>, model_name='gpt-4o-mini', temperature=0.0, openai_api_key=SecretStr('**********'), openai_api_base='https://api.proxyapi.ru/openai/v1', openai_proxy='', max_tokens=1000)\\n           | StrOutputParser()\\n           | RunnableLambda(...)\\n           | RunnableEach(bound=VectorStoreRetriever(tags=['Chroma', 'HuggingFaceEmbeddings'], vectorstore=<langchain_chroma.vectorstores.Chroma object at 0x111af9090>))\\n           | RunnableLambda(get_unique_union),\\n  question: RunnableLambda(itemgetter('question'))\\n}\\n| ChatPromptTemplate(input_variables=['context', 'question'], messages=[HumanMessagePromptTemplate(prompt=PromptTemplate(input_variables=['context', 'question'], template='Answer the following question based on this context:\\\\n\\\\n{context}\\\\n\\\\nQuestion: {question}\\\\n'))])\\n| ChatOpenAI(client=<openai.resources.chat.completions.Completions object at 0x308f7a490>, async_client=<openai.resources.chat.completions.AsyncCompletions object at 0x3424bcb90>, root_client=<openai.OpenAI object at 0x177459690>, root_async_client=<openai.AsyncOpenAI object at 0x308f7a950>, model_name='gpt-4o-mini', temperature=0.0, openai_api_key=SecretStr('**********'), openai_api_base='https://api.proxyapi.ru/openai/v1', openai_proxy='', max_tokens=1000)\\n| StrOutputParser()\"}"
      ]
     },
     "execution_count": 108,
     "metadata": {},
     "output_type": "execute_result"
    }
   ],
   "source": [
    "repr"
   ]
  },
  {
   "cell_type": "code",
   "execution_count": 104,
   "metadata": {},
   "outputs": [
    {
     "name": "stdout",
     "output_type": "stream",
     "text": [
      "{\n",
      "  \"lc\": 1,\n",
      "  \"type\": \"not_implemented\",\n",
      "  \"id\": [\n",
      "    \"langchain_core\",\n",
      "    \"vectorstores\",\n",
      "    \"base\",\n",
      "    \"VectorStoreRetriever\"\n",
      "  ],\n",
      "  \"repr\": \"VectorStoreRetriever(tags=['Chroma', 'HuggingFaceEmbeddings'], vectorstore=<langchain_chroma.vectorstores.Chroma object at 0x111af9090>)\",\n",
      "  \"name\": \"VectorStoreRetriever\"\n",
      "}\n"
     ]
    }
   ],
   "source": [
    "string_representation = dumps(final_rag_chain, pretty=True)\n",
    "print(string_representation[:500])"
   ]
  },
  {
   "cell_type": "code",
   "execution_count": 109,
   "metadata": {},
   "outputs": [],
   "source": [
    "import json\n",
    "\n",
    "with open(\"../../artifacts/chain.json\", \"w\") as fp:\n",
    "    json.dump(repr, fp)"
   ]
  },
  {
   "cell_type": "code",
   "execution_count": 120,
   "metadata": {},
   "outputs": [],
   "source": [
    "with open(\"../../artifacts/chain.json\", \"r\") as fp:\n",
    "    chain_dict = json.load(fp)"
   ]
  },
  {
   "cell_type": "code",
   "execution_count": 121,
   "metadata": {},
   "outputs": [
    {
     "data": {
      "text/plain": [
       "{'lc': 1,\n",
       " 'type': 'not_implemented',\n",
       " 'id': ['langchain_core', 'runnables', 'base', 'RunnableSequence'],\n",
       " 'repr': \"{\\n  context: ChatPromptTemplate(input_variables=['question'], messages=[HumanMessagePromptTemplate(prompt=PromptTemplate(input_variables=['question'], template='You are an AI language model assistant. Your task is to generate five \\\\ndifferent versions of the given user question to retrieve relevant documents from a vector \\\\ndatabase. By generating multiple perspectives on the user question, your goal is to help\\\\nthe user overcome some of the limitations of the distance-based similarity search. \\\\nProvide these alternative questions separated by newlines. Original question: {question}'))])\\n           | ChatOpenAI(client=<openai.resources.chat.completions.Completions object at 0x308f7a490>, async_client=<openai.resources.chat.completions.AsyncCompletions object at 0x3424bcb90>, root_client=<openai.OpenAI object at 0x177459690>, root_async_client=<openai.AsyncOpenAI object at 0x308f7a950>, model_name='gpt-4o-mini', temperature=0.0, openai_api_key=SecretStr('**********'), openai_api_base='https://api.proxyapi.ru/openai/v1', openai_proxy='', max_tokens=1000)\\n           | StrOutputParser()\\n           | RunnableLambda(...)\\n           | RunnableEach(bound=VectorStoreRetriever(tags=['Chroma', 'HuggingFaceEmbeddings'], vectorstore=<langchain_chroma.vectorstores.Chroma object at 0x111af9090>))\\n           | RunnableLambda(get_unique_union),\\n  question: RunnableLambda(itemgetter('question'))\\n}\\n| ChatPromptTemplate(input_variables=['context', 'question'], messages=[HumanMessagePromptTemplate(prompt=PromptTemplate(input_variables=['context', 'question'], template='Answer the following question based on this context:\\\\n\\\\n{context}\\\\n\\\\nQuestion: {question}\\\\n'))])\\n| ChatOpenAI(client=<openai.resources.chat.completions.Completions object at 0x308f7a490>, async_client=<openai.resources.chat.completions.AsyncCompletions object at 0x3424bcb90>, root_client=<openai.OpenAI object at 0x177459690>, root_async_client=<openai.AsyncOpenAI object at 0x308f7a950>, model_name='gpt-4o-mini', temperature=0.0, openai_api_key=SecretStr('**********'), openai_api_base='https://api.proxyapi.ru/openai/v1', openai_proxy='', max_tokens=1000)\\n| StrOutputParser()\"}"
      ]
     },
     "execution_count": 121,
     "metadata": {},
     "output_type": "execute_result"
    }
   ],
   "source": [
    "chain_dict"
   ]
  },
  {
   "cell_type": "code",
   "execution_count": null,
   "metadata": {},
   "outputs": [],
   "source": []
  }
 ],
 "metadata": {
  "kernelspec": {
   "display_name": "Python 3",
   "language": "python",
   "name": "python3"
  },
  "language_info": {
   "codemirror_mode": {
    "name": "ipython",
    "version": 3
   },
   "file_extension": ".py",
   "mimetype": "text/x-python",
   "name": "python",
   "nbconvert_exporter": "python",
   "pygments_lexer": "ipython3",
   "version": "3.11.9"
  }
 },
 "nbformat": 4,
 "nbformat_minor": 2
}
