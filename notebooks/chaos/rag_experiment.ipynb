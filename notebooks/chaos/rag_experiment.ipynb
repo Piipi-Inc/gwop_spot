{
 "cells": [
  {
   "cell_type": "code",
   "execution_count": 1,
   "metadata": {},
   "outputs": [],
   "source": [
    "import os \n",
    "import pandas as pd\n",
    "\n",
    "from langchain.text_splitter import RecursiveCharacterTextSplitter\n",
    "from langchain_openai import ChatOpenAI\n",
    "\n",
    "from langchain_chroma import Chroma\n",
    "from langchain_community.embeddings.sentence_transformer import (\n",
    "    SentenceTransformerEmbeddings,\n",
    ")"
   ]
  },
  {
   "cell_type": "code",
   "execution_count": 2,
   "metadata": {},
   "outputs": [
    {
     "data": {
      "text/plain": [
       "True"
      ]
     },
     "execution_count": 2,
     "metadata": {},
     "output_type": "execute_result"
    }
   ],
   "source": [
    "from dotenv import load_dotenv\n",
    "# Load environment variables\n",
    "load_dotenv('../../.env')"
   ]
  },
  {
   "cell_type": "code",
   "execution_count": 3,
   "metadata": {},
   "outputs": [],
   "source": [
    "llm = ChatOpenAI(model=\"gpt-4o-mini\", temperature=0, max_tokens = 1000)"
   ]
  },
  {
   "cell_type": "code",
   "execution_count": 4,
   "metadata": {},
   "outputs": [],
   "source": [
    "df_articles = pd.read_csv('../../data/df_articles.csv').dropna()\n",
    "df_articles['content'] = df_articles['title'] + df_articles['content']\n",
    "\n",
    "df_articles_analytics = pd.read_csv('../../data/df_articles_analytics.csv').dropna()\n",
    "df_articles_analytics['content'] = df_articles_analytics['title'] + df_articles_analytics['content']\n",
    "\n",
    "documents = df_articles['content'].to_list() + df_articles_analytics['content'].to_list()\n",
    "with open('../../data/courses.txt', 'r') as f:\n",
    "    documents += list(f.read().split('\\n\\n\\n\\n'))"
   ]
  },
  {
   "cell_type": "code",
   "execution_count": 5,
   "metadata": {},
   "outputs": [],
   "source": [
    "import os\n",
    "import PyPDF2\n",
    "\n",
    "def load_pdfs_from_folder(folder_path=\"../../data/pdf/\"):\n",
    "    documents = []\n",
    "\n",
    "    for filename in os.listdir(folder_path):\n",
    "        if filename.lower().endswith(\".pdf\"):\n",
    "            file_path = os.path.join(folder_path, filename)\n",
    "\n",
    "            with open(file_path, \"rb\") as f:\n",
    "                pdf_reader = PyPDF2.PdfReader(f)\n",
    "                text = \"\"\n",
    "                for page in pdf_reader.pages:\n",
    "                    page_text = page.extract_text()\n",
    "                    if page_text:\n",
    "                        text += page_text + \" \"\n",
    "\n",
    "            documents.append(text)\n",
    "\n",
    "    return documents"
   ]
  },
  {
   "cell_type": "code",
   "execution_count": 6,
   "metadata": {},
   "outputs": [],
   "source": [
    "pdf_docs = load_pdfs_from_folder()"
   ]
  },
  {
   "cell_type": "code",
   "execution_count": 7,
   "metadata": {},
   "outputs": [
    {
     "data": {
      "text/plain": [
       "17"
      ]
     },
     "execution_count": 7,
     "metadata": {},
     "output_type": "execute_result"
    }
   ],
   "source": [
    "len(pdf_docs)"
   ]
  },
  {
   "cell_type": "code",
   "execution_count": 9,
   "metadata": {},
   "outputs": [],
   "source": [
    "documents += pdf_docs"
   ]
  },
  {
   "cell_type": "code",
   "execution_count": 11,
   "metadata": {},
   "outputs": [],
   "source": [
    "documents = [doc.replace('\\xa0', ' ').replace('\\n', ' ') for doc in documents]"
   ]
  },
  {
   "cell_type": "code",
   "execution_count": 12,
   "metadata": {},
   "outputs": [
    {
     "data": {
      "text/plain": [
       "559"
      ]
     },
     "execution_count": 12,
     "metadata": {},
     "output_type": "execute_result"
    }
   ],
   "source": [
    "len(documents)"
   ]
  },
  {
   "cell_type": "code",
   "execution_count": 13,
   "metadata": {},
   "outputs": [],
   "source": [
    "text_splitter = RecursiveCharacterTextSplitter.from_tiktoken_encoder(chunk_size=1000, chunk_overlap=200)\n",
    "chunks = text_splitter.split_text(\" \".join(documents))"
   ]
  },
  {
   "cell_type": "code",
   "execution_count": 14,
   "metadata": {},
   "outputs": [
    {
     "data": {
      "text/plain": [
       "37152"
      ]
     },
     "execution_count": 14,
     "metadata": {},
     "output_type": "execute_result"
    }
   ],
   "source": [
    "len(chunks)"
   ]
  },
  {
   "cell_type": "code",
   "execution_count": 15,
   "metadata": {},
   "outputs": [
    {
     "name": "stderr",
     "output_type": "stream",
     "text": [
      "/var/folders/nf/9qms21p955z2mzc061kwnfs80000gn/T/ipykernel_19451/3267848779.py:2: LangChainDeprecationWarning: The class `HuggingFaceEmbeddings` was deprecated in LangChain 0.2.2 and will be removed in 0.3.0. An updated version of the class exists in the langchain-huggingface package and should be used instead. To use it run `pip install -U langchain-huggingface` and import as `from langchain_huggingface import HuggingFaceEmbeddings`.\n",
      "  embedding_function = SentenceTransformerEmbeddings(model_name=\"DeepPavlov/rubert-base-cased-sentence\", model_kwargs={'device': 'cpu'})\n",
      "No sentence-transformers model found with name DeepPavlov/rubert-base-cased-sentence. Creating a new one with mean pooling.\n"
     ]
    }
   ],
   "source": [
    "# create the open-source embedding function\n",
    "embedding_function = SentenceTransformerEmbeddings(model_name=\"DeepPavlov/rubert-base-cased-sentence\", model_kwargs={'device': 'cpu'})\n",
    "\n",
    "db = Chroma.from_texts(chunks, embedding_function, persist_directory=\"../../artifacts/chroma_db\")"
   ]
  },
  {
   "cell_type": "code",
   "execution_count": 16,
   "metadata": {},
   "outputs": [],
   "source": [
    "import pickle\n",
    "\n",
    "\n",
    "with open(\"../../artifacts/embedding_function.pkl\", \"wb\") as file:\n",
    "    pickle.dump(embedding_function, file)"
   ]
  },
  {
   "cell_type": "code",
   "execution_count": 17,
   "metadata": {},
   "outputs": [],
   "source": [
    "retriever = db.as_retriever()"
   ]
  },
  {
   "cell_type": "code",
   "execution_count": 18,
   "metadata": {},
   "outputs": [],
   "source": [
    "from langchain.prompts import ChatPromptTemplate\n",
    "\n",
    "# Multi Query: Different Perspectives\n",
    "template = \"\"\"You are an AI language model assistant. Your task is to generate five \n",
    "different versions of the given user question to retrieve relevant documents from a vector \n",
    "database. By generating multiple perspectives on the user question, your goal is to help\n",
    "the user overcome some of the limitations of the distance-based similarity search. \n",
    "Provide these alternative questions separated by newlines. Original question: {question}\"\"\"\n",
    "prompt_perspectives = ChatPromptTemplate.from_template(template)\n",
    "\n",
    "from langchain_core.output_parsers import StrOutputParser\n",
    "from langchain_openai import ChatOpenAI\n",
    "\n",
    "generate_queries = (\n",
    "    prompt_perspectives \n",
    "    | llm\n",
    "    | StrOutputParser() \n",
    "    | (lambda x: x.split(\"\\n\"))\n",
    ")"
   ]
  },
  {
   "cell_type": "code",
   "execution_count": 19,
   "metadata": {},
   "outputs": [],
   "source": [
    "from langchain.load import dumps, loads, load\n",
    "\n",
    "def get_unique_union(documents: list[list]):\n",
    "    \"\"\" Unique union of retrieved docs \"\"\"\n",
    "    # Flatten list of lists, and convert each Document to string\n",
    "    flattened_docs = [dumps(doc) for sublist in documents for doc in sublist]\n",
    "    # Get unique documents\n",
    "    unique_docs = list(set(flattened_docs))\n",
    "    # Return\n",
    "    return [loads(doc) for doc in unique_docs]"
   ]
  },
  {
   "cell_type": "code",
   "execution_count": 20,
   "metadata": {},
   "outputs": [
    {
     "name": "stderr",
     "output_type": "stream",
     "text": [
      "huggingface/tokenizers: The current process just got forked, after parallelism has already been used. Disabling parallelism to avoid deadlocks...\n",
      "To disable this warning, you can either:\n",
      "\t- Avoid using `tokenizers` before the fork if possible\n",
      "\t- Explicitly set the environment variable TOKENIZERS_PARALLELISM=(true | false)\n",
      "/var/folders/nf/9qms21p955z2mzc061kwnfs80000gn/T/ipykernel_19451/3273285394.py:10: LangChainBetaWarning: The function `loads` is in beta. It is actively being worked on, so the API may change.\n",
      "  return [loads(doc) for doc in unique_docs]\n"
     ]
    },
    {
     "data": {
      "text/plain": [
       "12"
      ]
     },
     "execution_count": 20,
     "metadata": {},
     "output_type": "execute_result"
    }
   ],
   "source": [
    "question = \"Какие акции IT компаний сейчас наиболее интересны для приобретения?\"\n",
    "retrieval_chain = generate_queries | retriever.map() | get_unique_union\n",
    "docs = retrieval_chain.invoke({\"question\":question})\n",
    "len(docs)"
   ]
  },
  {
   "cell_type": "code",
   "execution_count": 21,
   "metadata": {},
   "outputs": [
    {
     "data": {
      "text/plain": [
       "[Document(page_content='Мы не исключаем, что такая стратегия развития продолжится в дальнейшем и поможет группе увеличить спектр предлагаемых продуктов и услуг. Компания планирует добиться этого за счет: Менеджмент Группы Аренадаты прогнозирует рост числа заказчиков в шесть раз в среднесрочной перспективе. Для достижения этой цели компания планирует расширить партнерскую сеть и отдел прямых продаж вдвое. Отдельное внимание получит сегмент малого и среднего бизнеса, для которого актуальны облачные разработки. Что с финансами компании Основную выручку компании приносят продажи лицензий. Группа Аренадата также зарабатывает на реализации услуг техобслуживания, консалтинге и внедрении ПО. Небольшая часть доходов приходится на продажу подписок на ПО и услуг по обучению. Компания предлагает три вида лицензий. Постоянная лицензия Предусматривает ограниченное количество инсталляций на неограниченный срок. Неограниченная'),\n",
       " Document(page_content='бизнес — электронная коммерция. Это говорит о постепенной реализации эффекта масштаба и улучшении эффективности бизнеса при сохранении сильных темпов роста. В третьем квартале скорректированная EBITDA:  в сегменте электронной коммерции составила 4,4 млрд рублей (против -7,2 млрд рублей годом ранее); в финтех-сегменте — 8,6 млрд рублей (рост в 2,6 раза г/г).   Отметим, что в сегмент электронной коммерции входит высокомаржинальный рекламный бизнес, который пользуется большим спросом. Так, рекламная выручка по итогам третьего квартала подскочила на 82% г/г и составила 4,9% от GMV. Такая динамика рекламного бизнеса оказывает позитивное влияние на рентабельность всей компании.   C постепенной нормализацией темпов роста компания все больше внимания уделяет рентабельности. Ozon на регулярной основе принимает решение относительно того, сколько стоит инвестировать в рост (оценивая при этом потенциальную отдачу от вложенных средств), чтобы'),\n",
       " Document(page_content='на ПО и услуг по обучению. Компания предлагает три вида лицензий. Постоянная лицензия Предусматривает ограниченное количество инсталляций на неограниченный срок. Неограниченная лицензия Неограниченное количество инсталляций на ограниченный срок. Временная лицензия Ограниченное количество инсталляций на ограниченный срок. Популярность постоянных лицензий говорит о высокой лояльности клиентов и низком потенциале их ухода. Непрерывный рост объема данных будет способствовать дальнейшему увеличению лицензионной выручки и кросс-продажам других продуктов компании. При разбивке выручки группы по компаниям наибольший доход приносят продукты компании Аренадата Софтвер (среди них СУБД общего назначения, аналитические СУБД и инструменты для транспортировки данных). Теперь поговорим о темпах роста. Последние два года выручка группы росла на 60% в год. Мы ожидаем нормализации темпов роста и увеличения'),\n",
       " Document(page_content='поехали! В этом уроке мы дадим вам универсальный чек-лист. С ним вы в любой момент быстро оцените ситуацию вокруг и подберете себе актив. ☝🏻 Хорошая новость: чек-лист подойдет не только для выбора акций, но и если вы захотите присмотреться к облигациям или фондам. Вообще, когда мы говорим про выбор активов, принцип практически одинаковый. Поэтому мы и назвали чек-лист универсальным 🧐 Ну что, поехали! 1. Новости Проверить финансовые показатели компании перед покупкой — дело важное, но не единственное. Инвестор должен быть в курсе событий, связанных с компанией, чтобы не пропустить что-то важное (аварии, форс-мажоры, слияние, выплату дивидендов и прочее). 🤔 Зачем смотреть Слухи и новости о компании, высказывания первых лиц или же другая информация, имеющая прямое или косвенное отношение к бизнесу компании, могут повлиять на котировки. 1. Новости Проверить финансовые показатели компании перед покупкой — дело важное, но'),\n",
       " Document(page_content='ее   свойств.   Это    позволяет    подчеркнуть уникальность продукта или услуги, выделить их из числа одноименной продукции конкурентов.  Кредитор или инвестор, читающий бизнес-план, из этого раздела должен сделать для  себя  вывод  о  преимуществе  потребительных  свойств  продукции  именно  данного  предприятия,  понять,  чем  они отличаются  от  аналогов  других  производителей.   Далее   в   маркетинг-плане   эти   товары   и   услуги рассматриваются с позиций перспектив продаж, выработки соответствующей стратегии маркетинга. Раздел IV. Маркетинг-план Это один из важнейших разделов бизнес-плана, так как  многие  кредиторы  и  инвесторы  считают,  что  успех  нового  предприятия  или  выпуска  новой  продукции  и  услуг  можно   прогнозировать,   лишь принимая во внимание факторы, определяющие спрос на товар или услугу.  В  результате  разработки  маркетинг-плана  мы   должны   получить   важнейший'),\n",
       " Document(page_content='полученных средств.  Последняя страница резюме должна содержать финансовые  результаты,  ожидаемые  от  проекта  (финансовое резюме). Здесь приводятся сведения о прогнозных  объемах  продаж  на  ближайшие  годы, затратах  на   производство,   валовой   прибыли,   уровне   прибыльности   (рентабельности)   вложений, указание  о   возможном   периоде   возврата   капвложений   или   предоставленных   в   кредит   средств (финансовое резюме и особенности его составления изложены в п. 23.3 ). Раздел II. Общее описание предприятия В  этом  разделе  дается  полное  и  сокращенное  наименование  предприятия,  дата  регистрации,  описание  основных  видов  деятельности   предприятия   (код   ОКОНХ),   его   организационно-правовая форма,  форма  собственности  (код   СКФС),   доля   государства   (субъекта   Федерации)   в   капитале, подчиненность предприятия - вышестоящий орган.  Излагаются намерения по производству и сбыту'),\n",
       " Document(page_content='перспективе за счет дальнейшего роста продаж собственных решений.     Бенефициар структурных изменений IT-рынка Как мы отмечали выше, компания выигрывает от перестройки рынка, которая началась в 2022 году. Активное импортозамещение также положительно сказывается на прибыльности компании, но уже в сегменте решений сторонних производителей. В целом валовая маржа компании как % от продаж выросла с 14,9% в 2020-м до 26% в 2023-м. M&A-сделки как драйвер роста в среднесрочной перспективе Софтлайн обладает значительным опытом в совершении сделок слияний и поглощений. Только с начала этого года компания завершила более восьми подобных сделок. Причем сделала это в разных сегментах рынка и для различных целей, включая привлечение IT-специалистов, развитие портфеля собственных решений и экспансию в новые сегменты. При этом на фоне роста уровня консолидации рынка и конкуренции за освободившиеся ниши многим относительно небольшим'),\n",
       " Document(page_content='вы можете обратиться в поддержку Т-Инвестиций. А если вы хотите научиться так же быстро находить не только бюджетные, но и качественные компании, читайте наш курс «Чек-лист: как быстро выбрать лучшую акцию». Как быть в курсе всех конкурсов 👉 Чтобы узнавать обо всех акциях и конкурсах, подпишитесь в Пульсе на аккаунты Pulse_Official и T-Investments. Также вы можете обратиться в поддержку Т-Инвестиций. А если вы хотите научиться так же быстро находить не только бюджетные, но и качественные компании, читайте наш курс «Чек-лист: как быстро выбрать лучшую акцию».  Зачем нужны инвестиции Урок 1 10 мин Прогресс 6% ☝️ Что вы узнаете С какой скоростью растут цены в России и что с этим делать Почему инвестиции выгоднее вкладов и недвижимости Как достичь целей с помощью инвестиций ☝️ Чему вы научитесь Правильно выбирать инструменты для заработка Обгонять рост цен, используя разные инструменты ☝️ Что вы узнаете ☝️ Чему вы научитесь Словарь'),\n",
       " Document(page_content='выработки соответствующей стратегии маркетинга. Раздел IV. Маркетинг-план Это один из важнейших разделов бизнес-плана, так как  многие  кредиторы  и  инвесторы  считают,  что  успех  нового  предприятия  или  выпуска  новой  продукции  и  услуг  можно   прогнозировать,   лишь принимая во внимание факторы, определяющие спрос на товар или услугу.  В  результате  разработки  маркетинг-плана  мы   должны   получить   важнейший   показатель   для  дальнейших финансовых проектировок - объем продаж производимой продукции по всему  ассортименту и в целом по предприятию.  В данном разделе должны быть рассмотрены важные  аспекты  программы  маркетинга.  В  первую  очередь необходимо исследование  рынков,  на  которые  \"нацелен\"  бизнес,  выявление  отличительных характеристик и размеров основных рынков  и  сегментов  рынков.  Важнейшей  составляющей  является также  оценка  степени  существующей  конкуренции  и'),\n",
       " Document(page_content='доля и др.;  -  достижимыми  (Achievable)  при  наличии  имеющихся   ресурсов   и   вариантов   их   пополнения,  предлагаемых в бизнес-плане;  - реалистичными (Realistic), основанными на достигнутом уровне развития; - привязанными  ко  времени  (Timed),  что  означает  четкое  формулирование  сроков  достижения  поставленной цели.  Указываются также сведения о том, какой стадии развития достигло предприятие. Раздел III. Товары и услуги Основной целью данного раздела  является  профессиональная  характеристика  привлекательных  черт продукции и услуг, выпускаемых или оказываемых данным предприятием.  Здесь  дается   описание   физических   характеристик   продукции,   направлений   ее   возможного  использования   и   привлекательности   для   потребителя   ее   свойств.   Это    позволяет    подчеркнуть уникальность продукта или услуги, выделить их из числа одноименной продукции конкурентов.  Кредитор или инвестор, читающий бизнес-план, из'),\n",
       " Document(page_content='привлекательных  черт продукции и услуг, выпускаемых или оказываемых данным предприятием.  Здесь  дается   описание   физических   характеристик   продукции,   направлений   ее   возможного  использования   и   привлекательности   для   потребителя   ее   свойств.   Это    позволяет    подчеркнуть уникальность продукта или услуги, выделить их из числа одноименной продукции конкурентов.  Кредитор или инвестор, читающий бизнес-план, из этого раздела должен сделать для  себя  вывод  о  преимуществе  потребительных  свойств  продукции  именно  данного  предприятия,  понять,  чем  они отличаются  от  аналогов  других  производителей.   Далее   в   маркетинг-плане   эти   товары   и   услуги рассматриваются с позиций перспектив продаж, выработки соответствующей стратегии маркетинга. Раздел IV. Маркетинг-план Это один из важнейших разделов бизнес-плана, так как  многие  кредиторы  и  инвесторы  считают,  что'),\n",
       " Document(page_content='составляющая   финансового   анализа.   Во-первых,   для   многих   участников   рыночных    отношений, связанных    с    конкретным    хозяйствующим    субъектом,    бухгалтерская    (финансовая)    отчетность организации  является  основным  доступным  источником  экономической   информации,   формируемой непосредственно  на  микроуровне.  Во-вторых,  хотя  различные  пользователи   отчетной   информации интерпретируют  ее  данные  каждый  со  своей  точки  зрения,  существуют  общие  подходы   к   анализу отчетности.  Это  позволяет  получить  ответы  на  вопросы,  интересующие  всех  пользователей:   каков уровень деловой активности предприятия по  сравнению  с  его  конкурентами,  насколько  устойчиво  его финансовое положение, способно ли предприятие погасить своевременно свои  текущие  обязательства, насколько рентабельно предприятие и какие  факторы  оказывают  влияние  на  финансовые  результаты')]"
      ]
     },
     "execution_count": 21,
     "metadata": {},
     "output_type": "execute_result"
    }
   ],
   "source": [
    "docs"
   ]
  },
  {
   "cell_type": "code",
   "execution_count": 22,
   "metadata": {},
   "outputs": [
    {
     "name": "stdout",
     "output_type": "stream",
     "text": [
      "На основании предоставленного контекста, можно выделить несколько факторов, которые делают акции IT-компаний интересными для приобретения:\n",
      "\n",
      "1. **Развитие собственных продуктов**: Увеличение доли собственных продуктов в общем объеме продаж, что положительно сказывается на рентабельности. Например, в первом полугодии 2024 года доля собственных продуктов выросла до 30% с менее 3% в 2020 году.\n",
      "\n",
      "2. **Рост валовой маржи**: Валовая прибыль от собственных продуктов составляет около 60%, в то время как от сторонних — всего около 13%. Это указывает на более высокую рентабельность собственных решений.\n",
      "\n",
      "3. **Консолидация рынка**: Активные слияния и поглощения (M&A) в IT-секторе, которые могут привести к расширению бизнеса и увеличению рыночной доли.\n",
      "\n",
      "4. **Импортозамещение**: Позитивное влияние на прибыльность компаний в условиях активного импортозамещения.\n",
      "\n",
      "Таким образом, акции IT-компаний, которые активно развивают собственные продукты и участвуют в M&A-сделках, могут быть наиболее интересными для инвесторов.\n"
     ]
    }
   ],
   "source": [
    "from operator import itemgetter\n",
    "\n",
    "# RAG\n",
    "template = \"\"\"Answer the following question based on this context:\n",
    "\n",
    "{context}\n",
    "\n",
    "Question: {question}\n",
    "\"\"\"\n",
    "\n",
    "prompt = ChatPromptTemplate.from_template(template)\n",
    "\n",
    "final_rag_chain = (\n",
    "    {\"context\": retrieval_chain, \n",
    "     \"question\": itemgetter(\"question\")} \n",
    "    | prompt\n",
    "    | llm\n",
    "    | StrOutputParser()\n",
    ")\n",
    "\n",
    "res = final_rag_chain.invoke({\"question\":question})\n",
    "\n",
    "print(res)"
   ]
  },
  {
   "cell_type": "code",
   "execution_count": 107,
   "metadata": {},
   "outputs": [],
   "source": [
    "from langchain_core.load.serializable import to_json_not_implemented\n",
    "\n",
    "repr = to_json_not_implemented(final_rag_chain)"
   ]
  },
  {
   "cell_type": "code",
   "execution_count": 108,
   "metadata": {},
   "outputs": [
    {
     "data": {
      "text/plain": [
       "{'lc': 1,\n",
       " 'type': 'not_implemented',\n",
       " 'id': ['langchain_core', 'runnables', 'base', 'RunnableSequence'],\n",
       " 'repr': \"{\\n  context: ChatPromptTemplate(input_variables=['question'], messages=[HumanMessagePromptTemplate(prompt=PromptTemplate(input_variables=['question'], template='You are an AI language model assistant. Your task is to generate five \\\\ndifferent versions of the given user question to retrieve relevant documents from a vector \\\\ndatabase. By generating multiple perspectives on the user question, your goal is to help\\\\nthe user overcome some of the limitations of the distance-based similarity search. \\\\nProvide these alternative questions separated by newlines. Original question: {question}'))])\\n           | ChatOpenAI(client=<openai.resources.chat.completions.Completions object at 0x308f7a490>, async_client=<openai.resources.chat.completions.AsyncCompletions object at 0x3424bcb90>, root_client=<openai.OpenAI object at 0x177459690>, root_async_client=<openai.AsyncOpenAI object at 0x308f7a950>, model_name='gpt-4o-mini', temperature=0.0, openai_api_key=SecretStr('**********'), openai_api_base='https://api.proxyapi.ru/openai/v1', openai_proxy='', max_tokens=1000)\\n           | StrOutputParser()\\n           | RunnableLambda(...)\\n           | RunnableEach(bound=VectorStoreRetriever(tags=['Chroma', 'HuggingFaceEmbeddings'], vectorstore=<langchain_chroma.vectorstores.Chroma object at 0x111af9090>))\\n           | RunnableLambda(get_unique_union),\\n  question: RunnableLambda(itemgetter('question'))\\n}\\n| ChatPromptTemplate(input_variables=['context', 'question'], messages=[HumanMessagePromptTemplate(prompt=PromptTemplate(input_variables=['context', 'question'], template='Answer the following question based on this context:\\\\n\\\\n{context}\\\\n\\\\nQuestion: {question}\\\\n'))])\\n| ChatOpenAI(client=<openai.resources.chat.completions.Completions object at 0x308f7a490>, async_client=<openai.resources.chat.completions.AsyncCompletions object at 0x3424bcb90>, root_client=<openai.OpenAI object at 0x177459690>, root_async_client=<openai.AsyncOpenAI object at 0x308f7a950>, model_name='gpt-4o-mini', temperature=0.0, openai_api_key=SecretStr('**********'), openai_api_base='https://api.proxyapi.ru/openai/v1', openai_proxy='', max_tokens=1000)\\n| StrOutputParser()\"}"
      ]
     },
     "execution_count": 108,
     "metadata": {},
     "output_type": "execute_result"
    }
   ],
   "source": [
    "repr"
   ]
  },
  {
   "cell_type": "code",
   "execution_count": 104,
   "metadata": {},
   "outputs": [
    {
     "name": "stdout",
     "output_type": "stream",
     "text": [
      "{\n",
      "  \"lc\": 1,\n",
      "  \"type\": \"not_implemented\",\n",
      "  \"id\": [\n",
      "    \"langchain_core\",\n",
      "    \"vectorstores\",\n",
      "    \"base\",\n",
      "    \"VectorStoreRetriever\"\n",
      "  ],\n",
      "  \"repr\": \"VectorStoreRetriever(tags=['Chroma', 'HuggingFaceEmbeddings'], vectorstore=<langchain_chroma.vectorstores.Chroma object at 0x111af9090>)\",\n",
      "  \"name\": \"VectorStoreRetriever\"\n",
      "}\n"
     ]
    }
   ],
   "source": [
    "string_representation = dumps(final_rag_chain, pretty=True)\n",
    "print(string_representation[:500])"
   ]
  },
  {
   "cell_type": "code",
   "execution_count": 109,
   "metadata": {},
   "outputs": [],
   "source": [
    "import json\n",
    "\n",
    "with open(\"../../artifacts/chain.json\", \"w\") as fp:\n",
    "    json.dump(repr, fp)"
   ]
  },
  {
   "cell_type": "code",
   "execution_count": 120,
   "metadata": {},
   "outputs": [],
   "source": [
    "with open(\"../../artifacts/chain.json\", \"r\") as fp:\n",
    "    chain_dict = json.load(fp)"
   ]
  },
  {
   "cell_type": "code",
   "execution_count": 121,
   "metadata": {},
   "outputs": [
    {
     "data": {
      "text/plain": [
       "{'lc': 1,\n",
       " 'type': 'not_implemented',\n",
       " 'id': ['langchain_core', 'runnables', 'base', 'RunnableSequence'],\n",
       " 'repr': \"{\\n  context: ChatPromptTemplate(input_variables=['question'], messages=[HumanMessagePromptTemplate(prompt=PromptTemplate(input_variables=['question'], template='You are an AI language model assistant. Your task is to generate five \\\\ndifferent versions of the given user question to retrieve relevant documents from a vector \\\\ndatabase. By generating multiple perspectives on the user question, your goal is to help\\\\nthe user overcome some of the limitations of the distance-based similarity search. \\\\nProvide these alternative questions separated by newlines. Original question: {question}'))])\\n           | ChatOpenAI(client=<openai.resources.chat.completions.Completions object at 0x308f7a490>, async_client=<openai.resources.chat.completions.AsyncCompletions object at 0x3424bcb90>, root_client=<openai.OpenAI object at 0x177459690>, root_async_client=<openai.AsyncOpenAI object at 0x308f7a950>, model_name='gpt-4o-mini', temperature=0.0, openai_api_key=SecretStr('**********'), openai_api_base='https://api.proxyapi.ru/openai/v1', openai_proxy='', max_tokens=1000)\\n           | StrOutputParser()\\n           | RunnableLambda(...)\\n           | RunnableEach(bound=VectorStoreRetriever(tags=['Chroma', 'HuggingFaceEmbeddings'], vectorstore=<langchain_chroma.vectorstores.Chroma object at 0x111af9090>))\\n           | RunnableLambda(get_unique_union),\\n  question: RunnableLambda(itemgetter('question'))\\n}\\n| ChatPromptTemplate(input_variables=['context', 'question'], messages=[HumanMessagePromptTemplate(prompt=PromptTemplate(input_variables=['context', 'question'], template='Answer the following question based on this context:\\\\n\\\\n{context}\\\\n\\\\nQuestion: {question}\\\\n'))])\\n| ChatOpenAI(client=<openai.resources.chat.completions.Completions object at 0x308f7a490>, async_client=<openai.resources.chat.completions.AsyncCompletions object at 0x3424bcb90>, root_client=<openai.OpenAI object at 0x177459690>, root_async_client=<openai.AsyncOpenAI object at 0x308f7a950>, model_name='gpt-4o-mini', temperature=0.0, openai_api_key=SecretStr('**********'), openai_api_base='https://api.proxyapi.ru/openai/v1', openai_proxy='', max_tokens=1000)\\n| StrOutputParser()\"}"
      ]
     },
     "execution_count": 121,
     "metadata": {},
     "output_type": "execute_result"
    }
   ],
   "source": [
    "chain_dict"
   ]
  },
  {
   "cell_type": "code",
   "execution_count": null,
   "metadata": {},
   "outputs": [],
   "source": []
  }
 ],
 "metadata": {
  "kernelspec": {
   "display_name": "Python 3",
   "language": "python",
   "name": "python3"
  },
  "language_info": {
   "codemirror_mode": {
    "name": "ipython",
    "version": 3
   },
   "file_extension": ".py",
   "mimetype": "text/x-python",
   "name": "python",
   "nbconvert_exporter": "python",
   "pygments_lexer": "ipython3",
   "version": "3.11.9"
  }
 },
 "nbformat": 4,
 "nbformat_minor": 2
}
