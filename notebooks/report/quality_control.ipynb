{
 "cells": [
  {
   "cell_type": "code",
   "execution_count": 1,
   "metadata": {},
   "outputs": [],
   "source": [
    "from langchain_openai import ChatOpenAI\n",
    "\n",
    "from langchain_chroma import Chroma\n",
    "from langchain_community.embeddings.sentence_transformer import (\n",
    "    SentenceTransformerEmbeddings,\n",
    ")\n",
    "\n",
    "from langchain.prompts import ChatPromptTemplate\n",
    "\n",
    "from langchain.load import dumps, loads\n",
    "\n",
    "from langchain_core.output_parsers import StrOutputParser\n",
    "from operator import itemgetter\n",
    "\n",
    "import pandas as pd\n",
    "\n",
    "from tqdm import tqdm"
   ]
  },
  {
   "cell_type": "code",
   "execution_count": 2,
   "metadata": {},
   "outputs": [
    {
     "data": {
      "text/plain": [
       "True"
      ]
     },
     "execution_count": 2,
     "metadata": {},
     "output_type": "execute_result"
    }
   ],
   "source": [
    "from dotenv import load_dotenv\n",
    "# Load environment variables\n",
    "load_dotenv('../../.env')"
   ]
  },
  {
   "cell_type": "markdown",
   "metadata": {},
   "source": [
    "# Создание датасета"
   ]
  },
  {
   "cell_type": "code",
   "execution_count": 14,
   "metadata": {},
   "outputs": [],
   "source": [
    "def get_unique_union(documents: list[list]):\n",
    "    \"\"\" Unique union of retrieved docs \"\"\"\n",
    "    # Flatten list of lists, and convert each Document to string\n",
    "    flattened_docs = [dumps(doc) for sublist in documents for doc in sublist]\n",
    "    # Get unique documents\n",
    "    unique_docs = list(set(flattened_docs))\n",
    "    # Return\n",
    "    return [loads(doc) for doc in unique_docs]"
   ]
  },
  {
   "cell_type": "code",
   "execution_count": 44,
   "metadata": {},
   "outputs": [
    {
     "name": "stderr",
     "output_type": "stream",
     "text": [
      "No sentence-transformers model found with name DeepPavlov/rubert-base-cased-sentence. Creating a new one with mean pooling.\n",
      "huggingface/tokenizers: The current process just got forked, after parallelism has already been used. Disabling parallelism to avoid deadlocks...\n",
      "To disable this warning, you can either:\n",
      "\t- Avoid using `tokenizers` before the fork if possible\n",
      "\t- Explicitly set the environment variable TOKENIZERS_PARALLELISM=(true | false)\n"
     ]
    }
   ],
   "source": [
    "llm = ChatOpenAI(model=\"gpt-4o-mini\", temperature=0, max_tokens = 1000)\n",
    "\n",
    "embedding_function = SentenceTransformerEmbeddings(model_name=\"DeepPavlov/rubert-base-cased-sentence\", model_kwargs={'device': 'cpu'})\n",
    "db = Chroma(embedding_function=embedding_function, persist_directory=\"../../artifacts/chroma_db\")\n",
    "\n",
    "retriever = db.as_retriever()\n",
    "\n",
    "template = \"\"\"You are an AI language model assistant. Your task is to generate five \n",
    "different versions of the given user question to retrieve relevant documents from a vector \n",
    "database. By generating multiple perspectives on the user question, your goal is to help\n",
    "the user overcome some of the limitations of the distance-based similarity search. \n",
    "Provide these alternative questions separated by newlines. Original question: {question}\"\"\"\n",
    "prompt_perspectives = ChatPromptTemplate.from_template(template)\n",
    "\n",
    "generate_queries = (\n",
    "    prompt_perspectives \n",
    "    | llm\n",
    "    | StrOutputParser() \n",
    "    | (lambda x: x.split(\"\\n\"))\n",
    ")\n",
    "\n",
    "retrieval_chain = generate_queries | retriever.map() | get_unique_union\n",
    "\n",
    "template = \"\"\"Answer the following question based on this context:\n",
    "\n",
    "{context}\n",
    "\n",
    "Question: {question}\n",
    "\"\"\"\n",
    "\n",
    "prompt = ChatPromptTemplate.from_template(template)\n",
    "\n",
    "final_rag_chain = (\n",
    "    {\"context\": retrieval_chain, \n",
    "    \"question\": itemgetter(\"question\")} \n",
    "    | prompt\n",
    "    | llm\n",
    "    | StrOutputParser()\n",
    ")"
   ]
  },
  {
   "cell_type": "code",
   "execution_count": 45,
   "metadata": {},
   "outputs": [],
   "source": [
    "questions = []\n",
    "with open('../../data/questions.txt', 'r') as f:\n",
    "    questions = list(f.read().split('\\n'))"
   ]
  },
  {
   "cell_type": "code",
   "execution_count": 59,
   "metadata": {},
   "outputs": [],
   "source": [
    "df_answers = pd.DataFrame([], columns=['question', 'answer'])"
   ]
  },
  {
   "cell_type": "code",
   "execution_count": 60,
   "metadata": {},
   "outputs": [
    {
     "name": "stderr",
     "output_type": "stream",
     "text": [
      "100%|██████████| 251/251 [36:49<00:00,  8.80s/it] \n"
     ]
    }
   ],
   "source": [
    "for question in tqdm(questions):\n",
    "\n",
    "    if question in list(df_answers['question']):\n",
    "        continue\n",
    "    \n",
    "    res = final_rag_chain.invoke({\"question\":question})\n",
    "\n",
    "    df_answers.loc[len(df_answers)] = [question, res]\n",
    "\n",
    "df_answers.to_csv('../../data/question_answers.csv', index=False)"
   ]
  },
  {
   "cell_type": "code",
   "execution_count": 61,
   "metadata": {},
   "outputs": [
    {
     "data": {
      "text/html": [
       "<div>\n",
       "<style scoped>\n",
       "    .dataframe tbody tr th:only-of-type {\n",
       "        vertical-align: middle;\n",
       "    }\n",
       "\n",
       "    .dataframe tbody tr th {\n",
       "        vertical-align: top;\n",
       "    }\n",
       "\n",
       "    .dataframe thead th {\n",
       "        text-align: right;\n",
       "    }\n",
       "</style>\n",
       "<table border=\"1\" class=\"dataframe\">\n",
       "  <thead>\n",
       "    <tr style=\"text-align: right;\">\n",
       "      <th></th>\n",
       "      <th>question</th>\n",
       "      <th>answer</th>\n",
       "    </tr>\n",
       "  </thead>\n",
       "  <tbody>\n",
       "    <tr>\n",
       "      <th>0</th>\n",
       "      <td>Как мне эффективно копить деньги, если у меня ...</td>\n",
       "      <td>Чтобы эффективно копить деньги при нестабильно...</td>\n",
       "    </tr>\n",
       "    <tr>\n",
       "      <th>1</th>\n",
       "      <td>С чего начать планирование личного бюджета, ес...</td>\n",
       "      <td>Начать планирование личного бюджета можно с не...</td>\n",
       "    </tr>\n",
       "    <tr>\n",
       "      <th>2</th>\n",
       "      <td>Как грамотно распределять доходы и расходы, чт...</td>\n",
       "      <td>Чтобы грамотно распределять доходы и расходы и...</td>\n",
       "    </tr>\n",
       "    <tr>\n",
       "      <th>3</th>\n",
       "      <td>Какие существуют способы автоматизировать сбер...</td>\n",
       "      <td>В предоставленном контексте не упоминаются кон...</td>\n",
       "    </tr>\n",
       "    <tr>\n",
       "      <th>4</th>\n",
       "      <td>Как определить оптимальный размер «подушки без...</td>\n",
       "      <td>Оптимальный размер «подушки безопасности» обыч...</td>\n",
       "    </tr>\n",
       "    <tr>\n",
       "      <th>...</th>\n",
       "      <td>...</td>\n",
       "      <td>...</td>\n",
       "    </tr>\n",
       "    <tr>\n",
       "      <th>246</th>\n",
       "      <td>Что такое «облигации субфедерального уровня», ...</td>\n",
       "      <td>Облигации субфедерального уровня — это долговы...</td>\n",
       "    </tr>\n",
       "    <tr>\n",
       "      <th>247</th>\n",
       "      <td>Как лучше накапливать на дорогостоящую медицин...</td>\n",
       "      <td>Накапливать на дорогостоящую медицинскую опера...</td>\n",
       "    </tr>\n",
       "    <tr>\n",
       "      <th>248</th>\n",
       "      <td>Почему важно учитывать сезонный фактор в расхо...</td>\n",
       "      <td>Учет сезонного фактора в расходах, связанных с...</td>\n",
       "    </tr>\n",
       "    <tr>\n",
       "      <th>249</th>\n",
       "      <td>Что делать, если растут расценки на услуги ЖКХ...</td>\n",
       "      <td>Если расценки на услуги ЖКХ растут, а ваш дохо...</td>\n",
       "    </tr>\n",
       "    <tr>\n",
       "      <th>250</th>\n",
       "      <td>Как адекватно оценивать потенциальные прибыли ...</td>\n",
       "      <td>Для адекватной оценки потенциальных прибылей и...</td>\n",
       "    </tr>\n",
       "  </tbody>\n",
       "</table>\n",
       "<p>251 rows × 2 columns</p>\n",
       "</div>"
      ],
      "text/plain": [
       "                                              question  \\\n",
       "0    Как мне эффективно копить деньги, если у меня ...   \n",
       "1    С чего начать планирование личного бюджета, ес...   \n",
       "2    Как грамотно распределять доходы и расходы, чт...   \n",
       "3    Какие существуют способы автоматизировать сбер...   \n",
       "4    Как определить оптимальный размер «подушки без...   \n",
       "..                                                 ...   \n",
       "246  Что такое «облигации субфедерального уровня», ...   \n",
       "247  Как лучше накапливать на дорогостоящую медицин...   \n",
       "248  Почему важно учитывать сезонный фактор в расхо...   \n",
       "249  Что делать, если растут расценки на услуги ЖКХ...   \n",
       "250  Как адекватно оценивать потенциальные прибыли ...   \n",
       "\n",
       "                                                answer  \n",
       "0    Чтобы эффективно копить деньги при нестабильно...  \n",
       "1    Начать планирование личного бюджета можно с не...  \n",
       "2    Чтобы грамотно распределять доходы и расходы и...  \n",
       "3    В предоставленном контексте не упоминаются кон...  \n",
       "4    Оптимальный размер «подушки безопасности» обыч...  \n",
       "..                                                 ...  \n",
       "246  Облигации субфедерального уровня — это долговы...  \n",
       "247  Накапливать на дорогостоящую медицинскую опера...  \n",
       "248  Учет сезонного фактора в расходах, связанных с...  \n",
       "249  Если расценки на услуги ЖКХ растут, а ваш дохо...  \n",
       "250  Для адекватной оценки потенциальных прибылей и...  \n",
       "\n",
       "[251 rows x 2 columns]"
      ]
     },
     "execution_count": 61,
     "metadata": {},
     "output_type": "execute_result"
    }
   ],
   "source": [
    "df_answers"
   ]
  },
  {
   "cell_type": "markdown",
   "metadata": {},
   "source": [
    "# metrics"
   ]
  },
  {
   "cell_type": "code",
   "execution_count": 3,
   "metadata": {},
   "outputs": [
    {
     "name": "stderr",
     "output_type": "stream",
     "text": [
      "/Users/sucky_charm/Desktop/LLM/.venv/lib/python3.11/site-packages/IPython/core/interactiveshell.py:3577: LangChainDeprecationWarning: As of langchain-core 0.3.0, LangChain uses pydantic v2 internally. The langchain_core.pydantic_v1 module was a compatibility shim for pydantic v1, and should no longer be used. Please update the code to import from Pydantic directly.\n",
      "\n",
      "For example, replace imports like: `from langchain_core.pydantic_v1 import BaseModel`\n",
      "with: `from pydantic import BaseModel`\n",
      "or the v1 compatibility namespace if you are working in a code base that has not been fully upgraded to pydantic 2 yet. \tfrom pydantic.v1 import BaseModel\n",
      "\n",
      "  exec(code_obj, self.user_global_ns, self.user_ns)\n"
     ]
    }
   ],
   "source": [
    "from langchain.prompts import PromptTemplate\n",
    "from langchain_core.output_parsers import JsonOutputParser\n",
    "from langchain_core.pydantic_v1 import BaseModel, Field"
   ]
  },
  {
   "cell_type": "code",
   "execution_count": 4,
   "metadata": {},
   "outputs": [],
   "source": [
    "class Metrics(BaseModel):\n",
    "    correctness: float = Field(description=\"accuracy of facts and absence of errors\")\n",
    "    fullness: float = Field(description=\"coverage of all aspects of the question\")\n",
    "    relevance: float = Field(description=\"alignment with the context and essence of the question\")\n",
    "    clarity: float = Field(description=\"clarity and accessibility of language\")\n",
    "    conciseness: float = Field(description=\"brevity without losing essential information\")\n",
    "    detail: float = Field(description=\"thoroughness and depth of explanation\")\n",
    "    usefulness: float = Field(description=\"real-world applicability of the answer\")\n",
    "    coherence: float = Field(description=\"logical consistency within the answer\")\n",
    "    safety: float = Field(description=\"absence of harmful or dangerous content\")\n",
    "\n",
    "parser = JsonOutputParser(pydantic_object=Metrics)\n",
    "\n",
    "template = \"\"\"You are a qualified finantial inspector. You'll be given with a pair question-answer. Your task is to rank the quality of the answer from 0 to 1.\n",
    "The metrics are:\n",
    "\t{metrics}\n",
    "\n",
    "Question: \n",
    "{question}\n",
    "\n",
    "Answer: \n",
    "{answer}\n",
    "\"\"\"\n",
    "\n",
    "prompt = PromptTemplate(\n",
    "    template=template,\n",
    "    input_variables=[\"question\", \"answer\"],\n",
    "    partial_variables={\"metrics\": parser.get_format_instructions()},\n",
    ")\n",
    "\n",
    "llm = ChatOpenAI(model=\"gpt-4o\", temperature=0)\n",
    "\n",
    "chain = prompt | llm | parser"
   ]
  },
  {
   "cell_type": "code",
   "execution_count": 5,
   "metadata": {},
   "outputs": [],
   "source": [
    "qa = pd.read_csv('../../data/question_answers.csv').values"
   ]
  },
  {
   "cell_type": "code",
   "execution_count": 127,
   "metadata": {},
   "outputs": [
    {
     "name": "stderr",
     "output_type": "stream",
     "text": [
      "100%|██████████| 251/251 [07:09<00:00,  1.71s/it]\n"
     ]
    }
   ],
   "source": [
    "final_metrics = []\n",
    "\n",
    "for qu, an in tqdm(qa):\n",
    "    \n",
    "    res = chain.invoke({\n",
    "        \"question\": qu,\n",
    "        \"answer\": an\n",
    "    })\n",
    "\n",
    "    final_metrics.append(res)"
   ]
  },
  {
   "cell_type": "code",
   "execution_count": 128,
   "metadata": {},
   "outputs": [
    {
     "data": {
      "text/html": [
       "<div>\n",
       "<style scoped>\n",
       "    .dataframe tbody tr th:only-of-type {\n",
       "        vertical-align: middle;\n",
       "    }\n",
       "\n",
       "    .dataframe tbody tr th {\n",
       "        vertical-align: top;\n",
       "    }\n",
       "\n",
       "    .dataframe thead th {\n",
       "        text-align: right;\n",
       "    }\n",
       "</style>\n",
       "<table border=\"1\" class=\"dataframe\">\n",
       "  <thead>\n",
       "    <tr style=\"text-align: right;\">\n",
       "      <th></th>\n",
       "      <th>correctness</th>\n",
       "      <th>fullness</th>\n",
       "      <th>relevance</th>\n",
       "      <th>clarity</th>\n",
       "      <th>conciseness</th>\n",
       "      <th>detail</th>\n",
       "      <th>usefulness</th>\n",
       "      <th>coherence</th>\n",
       "      <th>safety</th>\n",
       "    </tr>\n",
       "  </thead>\n",
       "  <tbody>\n",
       "    <tr>\n",
       "      <th>0</th>\n",
       "      <td>0.9</td>\n",
       "      <td>0.8</td>\n",
       "      <td>0.9</td>\n",
       "      <td>0.9</td>\n",
       "      <td>0.8</td>\n",
       "      <td>0.8</td>\n",
       "      <td>0.9</td>\n",
       "      <td>0.9</td>\n",
       "      <td>0.9</td>\n",
       "    </tr>\n",
       "    <tr>\n",
       "      <th>1</th>\n",
       "      <td>1.0</td>\n",
       "      <td>0.9</td>\n",
       "      <td>1.0</td>\n",
       "      <td>1.0</td>\n",
       "      <td>0.9</td>\n",
       "      <td>0.9</td>\n",
       "      <td>1.0</td>\n",
       "      <td>1.0</td>\n",
       "      <td>1.0</td>\n",
       "    </tr>\n",
       "    <tr>\n",
       "      <th>2</th>\n",
       "      <td>1.0</td>\n",
       "      <td>1.0</td>\n",
       "      <td>1.0</td>\n",
       "      <td>1.0</td>\n",
       "      <td>0.9</td>\n",
       "      <td>1.0</td>\n",
       "      <td>1.0</td>\n",
       "      <td>1.0</td>\n",
       "      <td>1.0</td>\n",
       "    </tr>\n",
       "    <tr>\n",
       "      <th>3</th>\n",
       "      <td>0.9</td>\n",
       "      <td>0.8</td>\n",
       "      <td>0.9</td>\n",
       "      <td>0.9</td>\n",
       "      <td>0.8</td>\n",
       "      <td>0.7</td>\n",
       "      <td>0.9</td>\n",
       "      <td>0.9</td>\n",
       "      <td>1.0</td>\n",
       "    </tr>\n",
       "    <tr>\n",
       "      <th>4</th>\n",
       "      <td>1.0</td>\n",
       "      <td>0.9</td>\n",
       "      <td>1.0</td>\n",
       "      <td>1.0</td>\n",
       "      <td>0.9</td>\n",
       "      <td>0.9</td>\n",
       "      <td>1.0</td>\n",
       "      <td>1.0</td>\n",
       "      <td>1.0</td>\n",
       "    </tr>\n",
       "    <tr>\n",
       "      <th>...</th>\n",
       "      <td>...</td>\n",
       "      <td>...</td>\n",
       "      <td>...</td>\n",
       "      <td>...</td>\n",
       "      <td>...</td>\n",
       "      <td>...</td>\n",
       "      <td>...</td>\n",
       "      <td>...</td>\n",
       "      <td>...</td>\n",
       "    </tr>\n",
       "    <tr>\n",
       "      <th>246</th>\n",
       "      <td>1.0</td>\n",
       "      <td>1.0</td>\n",
       "      <td>1.0</td>\n",
       "      <td>1.0</td>\n",
       "      <td>0.9</td>\n",
       "      <td>1.0</td>\n",
       "      <td>1.0</td>\n",
       "      <td>1.0</td>\n",
       "      <td>1.0</td>\n",
       "    </tr>\n",
       "    <tr>\n",
       "      <th>247</th>\n",
       "      <td>1.0</td>\n",
       "      <td>0.9</td>\n",
       "      <td>1.0</td>\n",
       "      <td>1.0</td>\n",
       "      <td>0.9</td>\n",
       "      <td>0.8</td>\n",
       "      <td>1.0</td>\n",
       "      <td>1.0</td>\n",
       "      <td>1.0</td>\n",
       "    </tr>\n",
       "    <tr>\n",
       "      <th>248</th>\n",
       "      <td>1.0</td>\n",
       "      <td>1.0</td>\n",
       "      <td>1.0</td>\n",
       "      <td>1.0</td>\n",
       "      <td>0.9</td>\n",
       "      <td>1.0</td>\n",
       "      <td>1.0</td>\n",
       "      <td>1.0</td>\n",
       "      <td>1.0</td>\n",
       "    </tr>\n",
       "    <tr>\n",
       "      <th>249</th>\n",
       "      <td>1.0</td>\n",
       "      <td>1.0</td>\n",
       "      <td>1.0</td>\n",
       "      <td>1.0</td>\n",
       "      <td>0.9</td>\n",
       "      <td>1.0</td>\n",
       "      <td>1.0</td>\n",
       "      <td>1.0</td>\n",
       "      <td>1.0</td>\n",
       "    </tr>\n",
       "    <tr>\n",
       "      <th>250</th>\n",
       "      <td>0.9</td>\n",
       "      <td>0.8</td>\n",
       "      <td>0.9</td>\n",
       "      <td>0.9</td>\n",
       "      <td>0.8</td>\n",
       "      <td>0.8</td>\n",
       "      <td>0.9</td>\n",
       "      <td>0.9</td>\n",
       "      <td>1.0</td>\n",
       "    </tr>\n",
       "  </tbody>\n",
       "</table>\n",
       "<p>251 rows × 9 columns</p>\n",
       "</div>"
      ],
      "text/plain": [
       "     correctness  fullness  relevance  clarity  conciseness  detail  \\\n",
       "0            0.9       0.8        0.9      0.9          0.8     0.8   \n",
       "1            1.0       0.9        1.0      1.0          0.9     0.9   \n",
       "2            1.0       1.0        1.0      1.0          0.9     1.0   \n",
       "3            0.9       0.8        0.9      0.9          0.8     0.7   \n",
       "4            1.0       0.9        1.0      1.0          0.9     0.9   \n",
       "..           ...       ...        ...      ...          ...     ...   \n",
       "246          1.0       1.0        1.0      1.0          0.9     1.0   \n",
       "247          1.0       0.9        1.0      1.0          0.9     0.8   \n",
       "248          1.0       1.0        1.0      1.0          0.9     1.0   \n",
       "249          1.0       1.0        1.0      1.0          0.9     1.0   \n",
       "250          0.9       0.8        0.9      0.9          0.8     0.8   \n",
       "\n",
       "     usefulness  coherence  safety  \n",
       "0           0.9        0.9     0.9  \n",
       "1           1.0        1.0     1.0  \n",
       "2           1.0        1.0     1.0  \n",
       "3           0.9        0.9     1.0  \n",
       "4           1.0        1.0     1.0  \n",
       "..          ...        ...     ...  \n",
       "246         1.0        1.0     1.0  \n",
       "247         1.0        1.0     1.0  \n",
       "248         1.0        1.0     1.0  \n",
       "249         1.0        1.0     1.0  \n",
       "250         0.9        0.9     1.0  \n",
       "\n",
       "[251 rows x 9 columns]"
      ]
     },
     "execution_count": 128,
     "metadata": {},
     "output_type": "execute_result"
    }
   ],
   "source": [
    "df_metrics = pd.DataFrame(final_metrics)\n",
    "df_metrics"
   ]
  },
  {
   "cell_type": "code",
   "execution_count": 130,
   "metadata": {},
   "outputs": [
    {
     "data": {
      "text/plain": [
       "correctness    0.967729\n",
       "fullness       0.902789\n",
       "relevance      0.982072\n",
       "clarity        0.960159\n",
       "conciseness    0.862151\n",
       "detail         0.895219\n",
       "usefulness     0.966932\n",
       "coherence      0.978088\n",
       "safety         0.998805\n",
       "dtype: float64"
      ]
     },
     "execution_count": 130,
     "metadata": {},
     "output_type": "execute_result"
    }
   ],
   "source": [
    "df_metrics.mean(axis=0)"
   ]
  }
 ],
 "metadata": {
  "kernelspec": {
   "display_name": ".venv",
   "language": "python",
   "name": "python3"
  },
  "language_info": {
   "codemirror_mode": {
    "name": "ipython",
    "version": 3
   },
   "file_extension": ".py",
   "mimetype": "text/x-python",
   "name": "python",
   "nbconvert_exporter": "python",
   "pygments_lexer": "ipython3",
   "version": "3.11.9"
  }
 },
 "nbformat": 4,
 "nbformat_minor": 2
}
